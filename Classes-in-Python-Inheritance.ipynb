{
 "cells": [
  {
   "cell_type": "markdown",
   "id": "10387396-d4cd-4da0-8431-02bbb6c63455",
   "metadata": {},
   "source": [
    "## Classes-in-Python-Inheritance"
   ]
  },
  {
   "cell_type": "code",
   "execution_count": 11,
   "id": "14672065-f54c-4a58-bf33-86bef0c74d26",
   "metadata": {},
   "outputs": [],
   "source": [
    "## Class Shape Subclasses Circle, Rectangle, Triangle"
   ]
  },
  {
   "cell_type": "code",
   "execution_count": 13,
   "id": "ce9f5ffe-2d36-4be6-aa72-16fc94d0a37e",
   "metadata": {},
   "outputs": [
    {
     "name": "stdout",
     "output_type": "stream",
     "text": [
      "Area of Circle: 78.54\n",
      "Area of Rectangle: 72.00\n",
      "Area of Triangle: 15.00\n"
     ]
    }
   ],
   "source": [
    "\n",
    "class Shape:\n",
    "    def calculate_area(self):\n",
    "        raise NotImplementedError(\"Subclasses must implement this method\")\n",
    "\n",
    "class Circle(Shape):\n",
    "    def __init__(self, radius):\n",
    "        self.radius = radius\n",
    "\n",
    "    def area(self):\n",
    "        return math.pi * (self.radius ** 2)\n",
    "\n",
    "class Rectangle(Shape):\n",
    "    def __init__(self, width, height):\n",
    "        self.width = width\n",
    "        self.height = height\n",
    "\n",
    "    def area(self):\n",
    "        return self.width * self.height\n",
    "\n",
    "class Triangle(Shape):\n",
    "    def __init__(self, base, height):\n",
    "        self.base = base\n",
    "        self.height = height\n",
    "\n",
    "    def area(self):\n",
    "        return 0.5 * self.base * self.height\n",
    "\n",
    "if __name__ == \"__main__\":\n",
    "    circle = Circle(5)\n",
    "    rectangle = Rectangle(8, 9)\n",
    "    triangle = Triangle(6, 5)\n",
    "\n",
    "    print(f\"Area of Circle: {circle.area():.2f}\")\n",
    "    print(f\"Area of Rectangle: {rectangle.area():.2f}\")\n",
    "    print(f\"Area of Triangle: {triangle.area():.2f}\")\n",
    "\n"
   ]
  },
  {
   "cell_type": "code",
   "execution_count": 15,
   "id": "bef5d9e3-aec3-4a19-b448-d5a970b21479",
   "metadata": {},
   "outputs": [],
   "source": [
    "## Class Animal Subclasses Dog, Cat, Cow"
   ]
  },
  {
   "cell_type": "code",
   "execution_count": 19,
   "id": "30a1bd74-aeb7-4089-bdee-addda1e27425",
   "metadata": {},
   "outputs": [
    {
     "name": "stdout",
     "output_type": "stream",
     "text": [
      "Dog makes sound: Woof\n",
      "Cat makes sound: Meow\n",
      "Cow makes sound: Moo\n"
     ]
    }
   ],
   "source": [
    "class Animal:\n",
    "    def __init__(slef, name):\n",
    "        slef.name = name\n",
    "\n",
    "    def sound(self):\n",
    "        raise NotImplementedError(\"Subclass must implement this method\")\n",
    "\n",
    "class Dog(Animal):\n",
    "    def sound(self):\n",
    "        return \"Woof\"\n",
    "\n",
    "class Cat(Animal):\n",
    "    def sound(self):\n",
    "        return \"Meow\"\n",
    "\n",
    "class Cow(Animal):\n",
    "    def sound(self):\n",
    "        return \"Moo\"\n",
    "\n",
    "if __name__ == \"__main__\":\n",
    "    dog = Dog(\"Dog\")\n",
    "    cat = Cat(\"Cat\")\n",
    "    cow = Cow(\"Cow\")\n",
    "\n",
    "    print(f\"{dog.name} makes sound: {dog.sound()}\")\n",
    "    print(f\"{cat.name} makes sound: {cat.sound()}\")\n",
    "    print(f\"{cow.name} makes sound: {cow.sound()}\")\n"
   ]
  }
 ],
 "metadata": {
  "kernelspec": {
   "display_name": "Python 3 (ipykernel)",
   "language": "python",
   "name": "python3"
  },
  "language_info": {
   "codemirror_mode": {
    "name": "ipython",
    "version": 3
   },
   "file_extension": ".py",
   "mimetype": "text/x-python",
   "name": "python",
   "nbconvert_exporter": "python",
   "pygments_lexer": "ipython3",
   "version": "3.12.4"
  }
 },
 "nbformat": 4,
 "nbformat_minor": 5
}
